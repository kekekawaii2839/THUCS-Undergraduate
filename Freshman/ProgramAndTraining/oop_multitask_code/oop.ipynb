{
 "cells": [
  {
   "cell_type": "markdown",
   "metadata": {},
   "source": [
    "# OOP\n",
    "> 夏箫 xiax23@mails.tsinghua.edu.cn"
   ]
  },
  {
   "cell_type": "code",
   "execution_count": null,
   "metadata": {},
   "outputs": [],
   "source": [
    "import numpy as np\n",
    "np.ndarray"
   ]
  },
  {
   "cell_type": "markdown",
   "metadata": {},
   "source": [
    "## 类与对象"
   ]
  },
  {
   "cell_type": "code",
   "execution_count": null,
   "metadata": {},
   "outputs": [],
   "source": [
    "# 定义类\n",
    "class A:\n",
    "    def test(self):\n",
    "        print(\"Hello OOP from A!\")\n",
    "\n",
    "# 创建对象\n",
    "a = A()\n",
    "a.test()\n",
    "A.test(a) # 两句等价\n",
    "\n",
    "class B:\n",
    "    @staticmethod\n",
    "    def test():\n",
    "        print(\"Hello OOP from B!\")\n",
    "\n",
    "B.test()\n",
    "b = B()\n",
    "b.test()"
   ]
  },
  {
   "cell_type": "markdown",
   "metadata": {},
   "source": [
    "构造函数：`__init__`"
   ]
  },
  {
   "cell_type": "code",
   "execution_count": null,
   "metadata": {},
   "outputs": [],
   "source": [
    "class A:\n",
    "    def __init__(self):\n",
    "        self.test()\n",
    "\n",
    "    def test(self):\n",
    "        print(\"Hello OOP from A!\")\n",
    "\n",
    "a = A()"
   ]
  },
  {
   "cell_type": "markdown",
   "metadata": {},
   "source": [
    "### 类的属性\n",
    "C++成员：\n",
    "* 在定义类时全部确定且不可改变\n",
    "* 成员变量、函数的参数与返回值类型固定且不可改变\n",
    "\n",
    "Python属性：自由度大大增加"
   ]
  },
  {
   "cell_type": "markdown",
   "metadata": {},
   "source": [
    "#### 设置属性\n",
    "常规：在构造函数中设置"
   ]
  },
  {
   "cell_type": "code",
   "execution_count": null,
   "metadata": {},
   "outputs": [],
   "source": [
    "class A:\n",
    "    def __init__(self, value):\n",
    "        self.value = value\n",
    "\n",
    "    def test_1(self):\n",
    "        print(\"test 1:\", self.value) # 使用对象属性\n",
    "\n",
    "    def test_2(self):\n",
    "        print(\"test 2:\", self.value_2) # 注意此时尚未定义b属性\n",
    "\n",
    "a = A(1)\n",
    "a.test_1()"
   ]
  },
  {
   "cell_type": "markdown",
   "metadata": {},
   "source": [
    "可以在几乎任意位置设置（不安全，并非时刻有效！）"
   ]
  },
  {
   "cell_type": "code",
   "execution_count": null,
   "metadata": {},
   "outputs": [],
   "source": [
    "a.test_2()"
   ]
  },
  {
   "cell_type": "code",
   "execution_count": null,
   "metadata": {},
   "outputs": [],
   "source": [
    "a.value_2 = 42\n",
    "a.test_2()"
   ]
  },
  {
   "cell_type": "markdown",
   "metadata": {},
   "source": [
    "安全一些的方法：使用`hasattr, setattr, getattr`"
   ]
  },
  {
   "cell_type": "code",
   "execution_count": null,
   "metadata": {},
   "outputs": [],
   "source": [
    "class A:\n",
    "    def __init__(self, value):\n",
    "        self.value = value\n",
    "\n",
    "    def test_1(self):\n",
    "        print(\"test 1:\", self.value)\n",
    "\n",
    "    def test_2(self):\n",
    "        if not hasattr(self, 'value_2'):\n",
    "            setattr(self, 'value_2', 42)\n",
    "        print(\"test 2:\", getattr(self, 'value_2', 43))\n",
    "\n",
    "a = A(2)\n",
    "a.test_2()"
   ]
  },
  {
   "cell_type": "markdown",
   "metadata": {},
   "source": [
    "类型：动态\n",
    "* 默认对属性的类型、方法参数与返回值的类型无限制"
   ]
  },
  {
   "cell_type": "code",
   "execution_count": null,
   "metadata": {},
   "outputs": [],
   "source": [
    "a_1 = A(2)\n",
    "print(type(a_1.value))\n",
    "a_2 = A('2')\n",
    "print(type(a_2.value))\n",
    "a_2.value = 3.5\n",
    "print(type(a_2.value))"
   ]
  },
  {
   "cell_type": "markdown",
   "metadata": {},
   "source": [
    "强制控制类型：\n",
    "* 设置类型提示\n",
    "  \n",
    "  注意：即使设置了类型提示，Python也不会强制限制其类型！需借助代码审查工具检查"
   ]
  },
  {
   "cell_type": "code",
   "execution_count": null,
   "metadata": {},
   "outputs": [],
   "source": [
    "class A:\n",
    "    def __init__(self, value: int):\n",
    "        self.value: int = value\n",
    "\n",
    "a_1 = A(2)\n",
    "print(type(a_1.value))\n",
    "a_2 = A('2')\n",
    "print(type(a_2.value))\n",
    "a_2.value = 3.5\n",
    "print(type(a_2.value))"
   ]
  },
  {
   "cell_type": "markdown",
   "metadata": {},
   "source": [
    "* 手动检查类型，适时报错"
   ]
  },
  {
   "cell_type": "code",
   "execution_count": null,
   "metadata": {},
   "outputs": [],
   "source": [
    "class A:\n",
    "    def __init__(self, value: int):\n",
    "        if not isinstance(value, int):\n",
    "            raise ValueError(\"Value must be an integer.\")\n",
    "        self._value = value\n",
    "\n",
    "    @property\n",
    "    def value(self) -> int:\n",
    "        return self._value\n",
    "\n",
    "    @value.setter\n",
    "    def value(self, new_value: int):\n",
    "        if isinstance(new_value, int):\n",
    "            self._value = new_value\n",
    "        else:\n",
    "            raise ValueError(\"Value must be an integer.\")\n",
    "\n",
    "a_1 = A(2)\n",
    "print(type(a_1.value))"
   ]
  },
  {
   "cell_type": "code",
   "execution_count": null,
   "metadata": {},
   "outputs": [],
   "source": [
    "a_1.value = 3.5"
   ]
  },
  {
   "cell_type": "code",
   "execution_count": null,
   "metadata": {},
   "outputs": [],
   "source": [
    "a_2 = A('2')"
   ]
  },
  {
   "cell_type": "markdown",
   "metadata": {},
   "source": [
    "### 类属性与实例属性\n",
    "类属性：全体实例公有，可被类、实例访问，被类修改"
   ]
  },
  {
   "cell_type": "code",
   "execution_count": null,
   "metadata": {},
   "outputs": [],
   "source": [
    "class A:\n",
    "    data = 'Hello class attribute'\n",
    "    data_mutable = ['hello', 'list']\n",
    "\n",
    "\n",
    "a_1 = A()\n",
    "a_2 = A()\n",
    "print(a_1.data, a_1.data_mutable)"
   ]
  },
  {
   "cell_type": "markdown",
   "metadata": {},
   "source": [
    "被实例修改后，覆盖为实例属性\n",
    "\n",
    "被类修改后，全体实例的类属性被修改（覆盖为实例属性的除外）"
   ]
  },
  {
   "cell_type": "code",
   "execution_count": null,
   "metadata": {},
   "outputs": [],
   "source": [
    "a_2.data += ' suffix_1'\n",
    "print(a_2.data)\n",
    "print(a_1.data)\n",
    "\n",
    "print()\n",
    "\n",
    "A.data += ' suffix_2'\n",
    "print(a_2.data)\n",
    "print(a_1.data)"
   ]
  },
  {
   "cell_type": "markdown",
   "metadata": {},
   "source": [
    "可变的数据类型：被实例修改后会影响类属性！\n",
    "\n",
    "（可能引发潜在bug，没有把握勿轻易使用）"
   ]
  },
  {
   "cell_type": "code",
   "execution_count": null,
   "metadata": {},
   "outputs": [],
   "source": [
    "a_2.data_mutable.append('aaaaa')\n",
    "\n",
    "print(a_2.data_mutable)\n",
    "print(a_1.data_mutable)\n",
    "print(A.data_mutable)"
   ]
  },
  {
   "cell_type": "markdown",
   "metadata": {},
   "source": [
    "在实例中被直接赋值：覆盖为实例属性"
   ]
  },
  {
   "cell_type": "code",
   "execution_count": null,
   "metadata": {},
   "outputs": [],
   "source": [
    "a_3 = A()\n",
    "a_3.data_mutable = ['another', 'list']\n",
    "print(a_3.data, a_3.data_mutable)\n",
    "print(a_1.data, a_1.data_mutable)"
   ]
  },
  {
   "cell_type": "markdown",
   "metadata": {},
   "source": [
    "更多类变量的知识：阅读[Python Class Attributes: Examples of Variables | Toptal®](https://www.toptal.com/python/python-class-attributes-an-overly-thorough-guide)"
   ]
  },
  {
   "cell_type": "markdown",
   "metadata": {},
   "source": [
    "### 访问限制\n",
    "\n",
    "严格来说，Python没有“私有成员”概念，所有属性可公开访问\n",
    "\n",
    "约定俗成：在想要私有的属性/函数名前加“_”下划线\n",
    "\n",
    "小知识：加两条下划线会怎样？"
   ]
  },
  {
   "cell_type": "code",
   "execution_count": null,
   "metadata": {},
   "outputs": [],
   "source": [
    "class A:\n",
    "    def __init__(self, data, name):\n",
    "        self._data = data\n",
    "        self.__name = name\n",
    "\n",
    "        \n",
    "    def __test(self):\n",
    "        print(1)\n",
    "\n",
    "a = A(42, \"name\")\n",
    "print(a._data)\n",
    "dir(a)"
   ]
  },
  {
   "cell_type": "markdown",
   "metadata": {},
   "source": [
    "### 多态：重载/重写"
   ]
  },
  {
   "cell_type": "markdown",
   "metadata": {},
   "source": [
    "Python不支持重载函数（函数名相同，参数不同）"
   ]
  },
  {
   "cell_type": "code",
   "execution_count": null,
   "metadata": {},
   "outputs": [],
   "source": [
    "def func(a, b):\n",
    "    return a + b\n",
    "\n",
    "def func(a):\n",
    "    return -a\n",
    "\n",
    "print(func(2))\n",
    "print(func(3, 4))"
   ]
  },
  {
   "cell_type": "markdown",
   "metadata": {},
   "source": [
    "（那这里的@overload是什么呢？）"
   ]
  },
  {
   "cell_type": "code",
   "execution_count": null,
   "metadata": {},
   "outputs": [],
   "source": [
    "import numpy as np\n",
    "# 跳转到定义\n",
    "np.zeros"
   ]
  },
  {
   "cell_type": "code",
   "execution_count": null,
   "metadata": {},
   "outputs": [],
   "source": [
    "from typing import overload\n",
    "\n",
    "@overload\n",
    "def func(a, b):\n",
    "    return a + b\n",
    "\n",
    "@overload\n",
    "def func(a):\n",
    "    return -a\n",
    "\n",
    "print(func(2))\n",
    "print(func(3, 4))"
   ]
  },
  {
   "cell_type": "code",
   "execution_count": null,
   "metadata": {},
   "outputs": [],
   "source": []
  },
  {
   "cell_type": "code",
   "execution_count": null,
   "metadata": {},
   "outputs": [],
   "source": [
    "from typing import overload\n",
    "\n",
    "@overload\n",
    "def func(a, b): ...\n",
    "@overload\n",
    "def func(a): ...\n",
    "\n",
    "def func(a, b):\n",
    "    return a + b\n",
    "\n",
    "def func(a):\n",
    "    return -a\n",
    "\n",
    "print(func(2))\n",
    "print(func(3, 4))"
   ]
  },
  {
   "cell_type": "markdown",
   "metadata": {},
   "source": [
    "替代方案：\n",
    "1. args, kwargs\n",
    "2. multipledispatch的`@dispatch`装饰器（自行了解）"
   ]
  },
  {
   "cell_type": "code",
   "execution_count": null,
   "metadata": {},
   "outputs": [],
   "source": [
    "def func(*args):\n",
    "    if len(args) == 1:\n",
    "        return -args[0]\n",
    "    if len(args) == 2:\n",
    "        return args[0] + args[1]\n",
    "\n",
    "print(func(2))\n",
    "print(func(3, 4))"
   ]
  },
  {
   "cell_type": "code",
   "execution_count": null,
   "metadata": {},
   "outputs": [],
   "source": [
    "def func(**kwargs):\n",
    "    \"\"\"\n",
    "    Parameters\n",
    "    ----------\n",
    "    a, b : any\n",
    "        Values to be summed up\n",
    "    ----------\n",
    "    a : any\n",
    "        Value to take the opposite of\n",
    "    \"\"\"\n",
    "    if len(kwargs) == 1:\n",
    "        return -kwargs['a']\n",
    "    if len(kwargs) == 2:\n",
    "        return kwargs['a'] + kwargs['b']\n",
    "\n",
    "print(func(a=2))\n",
    "print(func(a=3, b=4))"
   ]
  },
  {
   "cell_type": "markdown",
   "metadata": {},
   "source": [
    "重写：方法与运算符"
   ]
  },
  {
   "cell_type": "code",
   "execution_count": null,
   "metadata": {},
   "outputs": [],
   "source": [
    "class Complex:\n",
    "    def __init__(self, a, b):\n",
    "        self.real = a\n",
    "        self.imag = b\n",
    "    def conjugate(self):\n",
    "        return Complex(self.real, -self.imag)\n",
    "    \n",
    "    # 用于表示成字符串\n",
    "    def __repr__(self):\n",
    "        if self.imag == 0:\n",
    "            return str(self.real)\n",
    "        if self.imag > 0:\n",
    "            return f\"{self.real} + {self.imag}j\"\n",
    "        if self.imag < 0:\n",
    "            return f\"{self.real} - {-self.imag}j\"\n",
    "        \n",
    "    # 用于运算\n",
    "    def __eq__(self, other):\n",
    "        return self.real == other.real and self.imag == other.imag\n",
    "    def __abs__(self):\n",
    "        return (self.real ** 2 + self.imag ** 2) ** 0.5\n",
    "    def __add__(self, other):\n",
    "        return Complex(self.real + other.real, self.imag + other.imag)\n",
    "    def __sub__(self, other):\n",
    "        return Complex(self.real - other.real, self.imag - other.imag)\n",
    "    def __mul__(self, other):\n",
    "        if(isinstance(other, Complex)):\n",
    "            return Complex(self.real * other.real - self.imag * other.imag, self.real * other.imag + self.imag * other.real)\n",
    "        elif(isinstance(other, (int, float))):\n",
    "            return Complex(self.real * other, self.imag * other)\n",
    "    def __truediv__(self, other):\n",
    "        if (isinstance(other, Complex)):\n",
    "            return self * other.conjugate() / (other * other.conjugate()).real\n",
    "        elif (isinstance(other, (int, float))):\n",
    "            return Complex(self.real / other, self.imag / other)\n",
    "    \n",
    "    # 对象在操作符右侧\n",
    "    def __rmul__(self, other):\n",
    "        if(isinstance(other, Complex)):\n",
    "            return Complex(self.real * other.real - self.imag * other.imag, self.real * other.imag + self.imag * other.real)\n",
    "        elif(isinstance(other, (int, float))):\n",
    "            return Complex(self.real * other, self.imag * other)\n",
    "\n",
    "a = Complex(3, 4)\n",
    "b = Complex(5, 12)\n",
    "print(a * 3)\n",
    "print(a * b)\n",
    "print(b / 2)\n",
    "print(3 * a)"
   ]
  },
  {
   "cell_type": "markdown",
   "metadata": {},
   "source": [
    "### 多态：继承"
   ]
  },
  {
   "cell_type": "code",
   "execution_count": null,
   "metadata": {},
   "outputs": [],
   "source": [
    "class Base:\n",
    "    def __init__(self):\n",
    "        self.value = 5\n",
    "        print(\"Base:\", self.value)\n",
    "\n",
    "class Derived(Base):\n",
    "    pass\n",
    "\n",
    "d = Derived()\n",
    "print(d.value)"
   ]
  },
  {
   "cell_type": "markdown",
   "metadata": {},
   "source": [
    "多重继承：对基类做深度优先搜索，取最先找到的\n",
    "\n",
    "无“Deadly Diamond of Death”问题"
   ]
  },
  {
   "cell_type": "code",
   "execution_count": null,
   "metadata": {},
   "outputs": [],
   "source": [
    "class Base1:\n",
    "    def test(self):\n",
    "        print(\"test 1\")\n",
    "\n",
    "class Base2:\n",
    "    def test(self):\n",
    "        print(\"test 2\")\n",
    "\n",
    "class Derived(Base1, Base2):\n",
    "    pass\n",
    "\n",
    "d = Derived()\n",
    "d.test()"
   ]
  },
  {
   "cell_type": "markdown",
   "metadata": {},
   "source": [
    "调用基类函数：`super()`"
   ]
  },
  {
   "cell_type": "code",
   "execution_count": null,
   "metadata": {},
   "outputs": [],
   "source": [
    "class Base:\n",
    "    def __init__(self, value):\n",
    "        self.value = value\n",
    "        print(\"Base:\", self.value)\n",
    "\n",
    "class Derived(Base):\n",
    "    def __init__(self, value_base, value_derived):\n",
    "        # super().__init__(value_base)\n",
    "        self.value_derived = value_derived\n",
    "        print(\"Derived:\", self.value_derived)\n",
    "\n",
    "d = Derived(2, 3)"
   ]
  },
  {
   "cell_type": "markdown",
   "metadata": {},
   "source": [
    "## 装饰器\n",
    "### 从Python函数说起\n",
    "参考：[Primer on Python Decorators – Real Python](https://realpython.com/primer-on-python-decorators/#simple-decorators)\n",
    "\n",
    "在Python中，函数、类的定义和变量一样，都是可以用于赋值、传参的对象\n",
    "\n",
    "有一类函数：以函数/类为参数，返回一个函数/类"
   ]
  },
  {
   "cell_type": "code",
   "execution_count": null,
   "metadata": {},
   "outputs": [],
   "source": [
    "def my_decorator(func):\n",
    "    def wrapper(*args, **kwargs):\n",
    "        print(\"Something is happening before the function is called.\")\n",
    "        func(*args, **kwargs)\n",
    "        print(\"Something is happening after the function is called.\")\n",
    "    return wrapper\n",
    "\n",
    "def test():\n",
    "    print(\"Called!\")\n",
    "\n",
    "# 用`my_decorator`“装饰”`test`\n",
    "test = my_decorator(test)\n",
    "test()"
   ]
  },
  {
   "cell_type": "markdown",
   "metadata": {},
   "source": [
    "语法糖：\n",
    "```python\n",
    "@my_decorator\n",
    "def test():\n",
    "    print(\"Called!\")\n",
    "```\n",
    "等价于\n",
    "```python\n",
    "def test():\n",
    "    print(\"Called!\")\n",
    "test = my_decorator(test)\n",
    "```"
   ]
  },
  {
   "cell_type": "code",
   "execution_count": null,
   "metadata": {},
   "outputs": [],
   "source": [
    "def my_decorator(func):\n",
    "    def wrapper(*args, **kwargs):\n",
    "        print(\"Something is happening before the function is called.\")\n",
    "        func(*args, **kwargs)\n",
    "        print(\"Something is happening after the function is called.\")\n",
    "    return wrapper\n",
    "\n",
    "@my_decorator\n",
    "def test():\n",
    "    print(\"Called!\")\n",
    "test()"
   ]
  },
  {
   "cell_type": "markdown",
   "metadata": {},
   "source": [
    "装饰器：装饰某个函数/类，改变其功能\n",
    "\n",
    "部分常用的装饰器："
   ]
  },
  {
   "cell_type": "markdown",
   "metadata": {},
   "source": [
    "### property & setter & deleter\n",
    "装饰无参数的类的方法，将其作为值看待，在获取、复制、删除的时候均调用"
   ]
  },
  {
   "cell_type": "code",
   "execution_count": null,
   "metadata": {},
   "outputs": [],
   "source": [
    "class A:\n",
    "    def __init__(self, value: int):\n",
    "        if not isinstance(value, int):\n",
    "            raise ValueError(\"Value must be an integer.\")\n",
    "        self._value = value\n",
    "\n",
    "    @property\n",
    "    def value(self) -> int:\n",
    "        return self._value\n",
    "\n",
    "    @value.setter\n",
    "    def value(self, new_value: int):\n",
    "        if isinstance(new_value, int):\n",
    "            self._value = new_value\n",
    "        else:\n",
    "            raise ValueError(\"Value must be an integer.\")\n",
    "    \n",
    "    @value.deleter\n",
    "    def value(self):\n",
    "        print(\"Deleting value\")\n",
    "        del self._value\n",
    "\n",
    "a_1 = A(2)\n",
    "print(type(a_1.value))\n"
   ]
  },
  {
   "cell_type": "code",
   "execution_count": null,
   "metadata": {},
   "outputs": [],
   "source": [
    "a_1.value = 3.5"
   ]
  },
  {
   "cell_type": "code",
   "execution_count": null,
   "metadata": {},
   "outputs": [],
   "source": [
    "a_2 = A('2')"
   ]
  },
  {
   "cell_type": "code",
   "execution_count": null,
   "metadata": {},
   "outputs": [],
   "source": [
    "del a_1.value"
   ]
  },
  {
   "cell_type": "markdown",
   "metadata": {},
   "source": [
    "### classmethod\n",
    "以“对一个类的引用”为第一个参数，装饰一个类的函数"
   ]
  },
  {
   "cell_type": "code",
   "execution_count": null,
   "metadata": {},
   "outputs": [],
   "source": [
    "class Position:\n",
    "    def __init__(self, x: int, y: int):\n",
    "        self.x = x\n",
    "        self.y = y\n",
    "    \n",
    "    @classmethod\n",
    "    def from_string(cls, pos_string: str):\n",
    "        pos = pos_string.strip()[1:-1].split(',')\n",
    "        assert len(pos) == 2\n",
    "        return cls(int(pos[0].strip()), int(pos[1].strip()))\n",
    "\n",
    "pos = Position.from_string('(2, 3)')\n",
    "print(pos.x, pos.y)"
   ]
  },
  {
   "cell_type": "markdown",
   "metadata": {},
   "source": [
    "### 抽象类\n",
    "由`abc`库支持，abc即Abstract Base Classes\n",
    "\n",
    "定义抽象类，未实现全部抽象函数的子类不能实例化"
   ]
  },
  {
   "cell_type": "code",
   "execution_count": null,
   "metadata": {},
   "outputs": [],
   "source": [
    "from abc import ABC, abstractmethod\n",
    "\n",
    "class Base(ABC):\n",
    "    @abstractmethod\n",
    "    def test_1(self):\n",
    "        pass\n",
    "\n",
    "    @abstractmethod\n",
    "    def test_2(self):\n",
    "        pass"
   ]
  },
  {
   "cell_type": "code",
   "execution_count": null,
   "metadata": {},
   "outputs": [],
   "source": [
    "class Derived(Base):\n",
    "    def test_1(self):\n",
    "        print(1)\n",
    "d = Derived()"
   ]
  },
  {
   "cell_type": "code",
   "execution_count": null,
   "metadata": {},
   "outputs": [],
   "source": [
    "class Derived(Base):\n",
    "    def test_1(self):\n",
    "        print(1)\n",
    "    \n",
    "    def test_2(self):\n",
    "        print(2)\n",
    "d = Derived()"
   ]
  },
  {
   "cell_type": "markdown",
   "metadata": {},
   "source": [
    "### dataclass\n",
    "常用于装饰一个用于存储数据的类\n",
    "\n",
    "只需写出其属性，自动重写`__init__`"
   ]
  },
  {
   "cell_type": "code",
   "execution_count": null,
   "metadata": {},
   "outputs": [],
   "source": [
    "from dataclasses import dataclass\n",
    "\n",
    "@dataclass\n",
    "class Position:\n",
    "    x: int\n",
    "    y: int\n",
    "\n",
    "class Position_2:\n",
    "    def __init__(self, x: int, y: int):\n",
    "        self.x = x\n",
    "        self.y = y\n",
    "\n",
    "a = Position(2, 3)\n",
    "b = Position(5, 1)\n",
    "\n",
    "c = Position_2(2, 3)\n",
    "d = Position_2(5, 1)"
   ]
  },
  {
   "cell_type": "markdown",
   "metadata": {},
   "source": [
    "自动重写`__repr__`，可生成字符串表示"
   ]
  },
  {
   "cell_type": "code",
   "execution_count": null,
   "metadata": {},
   "outputs": [],
   "source": [
    "print(a, b)\n",
    "print(c, d)"
   ]
  },
  {
   "cell_type": "markdown",
   "metadata": {},
   "source": [
    "自动重写`__eq__`函数，比较属性是否相等"
   ]
  },
  {
   "cell_type": "code",
   "execution_count": null,
   "metadata": {},
   "outputs": [],
   "source": [
    "a = Position(2, 3)\n",
    "b = Position(2, 3)\n",
    "\n",
    "c = Position_2(2, 3)\n",
    "d = Position_2(2, 3)\n",
    "\n",
    "a == b, c == d"
   ]
  },
  {
   "cell_type": "markdown",
   "metadata": {},
   "source": [
    "了解更多：阅读[Data Classes in Python 3.7+ (Guide) – Real Python](https://realpython.com/python-data-classes/)"
   ]
  },
  {
   "cell_type": "markdown",
   "metadata": {},
   "source": []
  }
 ],
 "metadata": {
  "kernelspec": {
   "display_name": "base",
   "language": "python",
   "name": "python3"
  },
  "language_info": {
   "codemirror_mode": {
    "name": "ipython",
    "version": 3
   },
   "file_extension": ".py",
   "mimetype": "text/x-python",
   "name": "python",
   "nbconvert_exporter": "python",
   "pygments_lexer": "ipython3",
   "version": "3.8.11"
  },
  "orig_nbformat": 4
 },
 "nbformat": 4,
 "nbformat_minor": 2
}
